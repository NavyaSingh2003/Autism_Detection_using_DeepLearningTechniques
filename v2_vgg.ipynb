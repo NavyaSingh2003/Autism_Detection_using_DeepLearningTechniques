{
  "cells": [
    {
      "cell_type": "code",
      "execution_count": null,
      "metadata": {
        "colab": {
          "base_uri": "https://localhost:8080/"
        },
        "id": "QKrHsDb2vbKI",
        "outputId": "8bf34dd5-678c-41bc-8679-dfa98df58135"
      },
      "outputs": [
        {
          "name": "stdout",
          "output_type": "stream",
          "text": [
            "Drive already mounted at /content/drive; to attempt to forcibly remount, call drive.mount(\"/content/drive\", force_remount=True).\n"
          ]
        }
      ],
      "source": [
        "from google.colab import drive\n",
        "drive.mount('/content/drive')"
      ]
    },
    {
      "cell_type": "code",
      "execution_count": null,
      "metadata": {
        "id": "DWf7TaMOj_U3"
      },
      "outputs": [],
      "source": [
        "# Import necessary libraries\n",
        "import os\n",
        "import numpy as np\n",
        "import tensorflow as tf\n",
        "from tensorflow.keras import layers, models, optimizers\n",
        "from tensorflow.keras.preprocessing.image import ImageDataGenerator\n",
        "from tensorflow.keras.callbacks import ModelCheckpoint\n",
        "from keras.models import Model\n",
        "from keras.layers import Input, Conv2D, MaxPool2D, AveragePooling2D, Flatten, Dense, Dropout, concatenate, GlobalAveragePooling2D\n",
        "import keras\n",
        "from tensorflow.keras.applications import VGG19\n",
        "from tensorflow.keras.layers import BatchNormalization, Activation\n",
        "from tensorflow.keras.layers import (\n",
        "    Input, Dense, Dropout, Conv2D, MaxPooling2D,\n",
        "    AveragePooling2D, GlobalAveragePooling2D, Flatten,\n",
        "    BatchNormalization, Activation, Concatenate\n",
        ")\n"
      ]
    },
    {
      "cell_type": "code",
      "source": [
        "import os\n",
        "import numpy as np\n",
        "import tensorflow as tf\n",
        "from tensorflow.keras.preprocessing.image import load_img, img_to_array\n",
        "from tensorflow.keras.applications.vgg19 import VGG19, preprocess_input\n",
        "from tensorflow.keras.models import Model\n",
        "from tensorflow.keras.layers import Input, Dense, Flatten, Dropout, concatenate, Conv2D, MaxPooling2D, BatchNormalization, AveragePooling2D\n",
        "from sklearn.preprocessing import LabelEncoder\n",
        "from tensorflow.keras import layers\n",
        "\n",
        "\n",
        "source_folder = \"/content/drive/MyDrive/Colab_Notebooks/major_new_dataset/source_folder\"\n",
        "train_dir = os.path.join(source_folder, \"train\")\n",
        "test_dir = os.path.join(source_folder, \"test\")\n",
        "\n",
        "\n",
        "IMG_SIZE = (224, 224)  # VGG19 input size\n",
        "BATCH_SIZE = 32\n",
        "\n",
        "base_model = VGG19(weights='imagenet', include_top=False, input_shape=(224, 224, 3))\n",
        "vgg19_model = Model(inputs=base_model.input, outputs=base_model.get_layer('block5_pool').output)\n",
        "vgg19_model.trainable = False\n",
        "\n",
        "\n",
        "def load_data(directory):\n",
        "    data, labels = [], []\n",
        "    for label in os.listdir(directory):\n",
        "        class_dir = os.path.join(directory, label)\n",
        "        if os.path.isdir(class_dir):\n",
        "            for img_name in os.listdir(class_dir):\n",
        "                img_path = os.path.join(class_dir, img_name)\n",
        "                img = load_img(img_path, target_size=IMG_SIZE)\n",
        "                img_array = img_to_array(img)\n",
        "                img_array = preprocess_input(img_array)\n",
        "                data.append(img_array)\n",
        "                labels.append(label)\n",
        "    data = np.array(data)\n",
        "    labels = np.array(labels)\n",
        "    return data, labels\n",
        "\n",
        "\n",
        "train_data, train_labels = load_data(train_dir)\n",
        "test_data, test_labels = load_data(test_dir)\n",
        "\n",
        "\n",
        "label_encoder = LabelEncoder()\n",
        "train_labels = label_encoder.fit_transform(train_labels)\n",
        "test_labels = label_encoder.transform(test_labels)\n",
        "\n",
        "\n",
        "train_features = vgg19_model.predict(train_data, batch_size=BATCH_SIZE, verbose=1)\n",
        "test_features = vgg19_model.predict(test_data, batch_size=BATCH_SIZE, verbose=1)\n",
        "\n",
        "\n",
        "train_features = train_features.reshape(-1, 7, 7, 512)  # VGG19 output shape\n",
        "test_features = test_features.reshape(-1, 7, 7, 512)\n",
        "\n",
        "# Defining the custom InceptionV2 model\n",
        "\n",
        "def InceptionV2(input_shape):\n",
        "    input_layer = Input(shape=input_shape)\n",
        "\n",
        "\n",
        "    def factorized_conv(prev_layer, nbr_kernels, filter_size):\n",
        "        x = Conv2D(filters=nbr_kernels, kernel_size=(1, filter_size), padding='same', activation='relu')(prev_layer)\n",
        "        x = Conv2D(filters=nbr_kernels, kernel_size=(filter_size, 1), padding='same', activation='relu')(x)\n",
        "        return x\n",
        "\n",
        "\n",
        "    def conv_Block(prev_layer, nbr_kernels, filter_size, stride=(1, 1), padding='valid'):\n",
        "        x = Conv2D(filters=nbr_kernels, kernel_size=filter_size, strides=stride, padding=padding)(prev_layer)\n",
        "        x = BatchNormalization(axis=3)(x)\n",
        "        x = layers.Activation('relu')(x)\n",
        "        return x\n",
        "\n",
        "\n",
        "    def InceptionBlock(prev_layer):\n",
        "\n",
        "        branch1x1 = conv_Block(prev_layer, 64, (1, 1))\n",
        "\n",
        "\n",
        "        branch3x3 = conv_Block(prev_layer, 128, (1, 1))\n",
        "        branch3x3 = conv_Block(branch3x3, 128, (3, 3), padding='same')\n",
        "\n",
        "\n",
        "        branch5x5 = conv_Block(prev_layer, 32, (1, 1))\n",
        "        branch5x5 = conv_Block(branch5x5, 64, (5, 5), padding='same')\n",
        "\n",
        "\n",
        "        branch_pool = MaxPooling2D(pool_size=3, strides=1, padding='same')(prev_layer)\n",
        "        branch_pool = conv_Block(branch_pool, 64, (1, 1))\n",
        "\n",
        "        out = concatenate([branch1x1, branch3x3, branch5x5, branch_pool], axis=3)\n",
        "        return out\n",
        "\n",
        "\n",
        "    out = InceptionBlock(input_layer)\n",
        "\n",
        "\n",
        "    out = AveragePooling2D(pool_size=3)(out)\n",
        "\n",
        "\n",
        "    out = Flatten()(out)\n",
        "    out = Dense(1024, activation='relu')(out)\n",
        "    out = Dropout(0.5)(out)\n",
        "    out = Dense(1, activation='sigmoid')(out)\n",
        "\n",
        "    model = Model(inputs=input_layer, outputs=out)\n",
        "    return model\n",
        "\n",
        "\n",
        "inception_v2_model = InceptionV2(input_shape=(7, 7, 512))\n",
        "\n",
        "\n",
        "inception_v2_model.compile(optimizer='adam', loss='binary_crossentropy', metrics=['accuracy'])\n",
        "\n",
        "inception_v2_model.fit(\n",
        "    train_features, train_labels,\n",
        "    batch_size=BATCH_SIZE,\n",
        "    epochs=30,\n",
        ")\n",
        "\n",
        "\n",
        "test_loss, test_acc = inception_v2_model.evaluate(test_features, test_labels)\n",
        "print(f\"Test Accuracy: {test_acc * 100:.2f}%\")\n",
        "\n",
        "inception_v2_model.save(\"/content/drive/MyDrive/Colab_Notebooks/major_new_dataset/model_saving/inception_v2_with_vgg19_features.h5\")\n",
        "print(\"Model saved as 'inception_v2_with_vgg19_features.h5'\")\n"
      ],
      "metadata": {
        "colab": {
          "base_uri": "https://localhost:8080/"
        },
        "id": "jL5YM11-RH3Q",
        "outputId": "fc204a20-454f-4278-9161-c73083a0cc94"
      },
      "execution_count": 1,
      "outputs": [
        {
          "output_type": "stream",
          "name": "stderr",
          "text": [
            "WARNING:root:You are saving your model as an HDF5 file via `model.save()` or `keras.saving.save_model(model)`. This file format is considered legacy. We recommend using instead the native Keras format, e.g. `model.save('my_model.keras')` or `keras.saving.save_model(model, 'my_model.keras')`.\n"
          ]
        },
        {
          "output_type": "stream",
          "name": "stdout",
          "text": [
            "Test Accuracy: 94.96%\n",
            "Model saved as 'inception_v2_with_vgg19_features.h5'\n"
          ]
        }
      ]
    },
    {
      "cell_type": "code",
      "execution_count": null,
      "metadata": {
        "colab": {
          "base_uri": "https://localhost:8080/",
          "height": 720
        },
        "id": "v3MJ0BSBlfRY",
        "outputId": "d6bd0576-c3d5-432d-bc46-c12aa37ca211"
      },
      "outputs": [
        {
          "name": "stdout",
          "output_type": "stream",
          "text": [
            "\u001b[1m9/9\u001b[0m \u001b[32m━━━━━━━━━━━━━━━━━━━━\u001b[0m\u001b[37m\u001b[0m \u001b[1m2s\u001b[0m 189ms/step\n"
          ]
        },
        {
          "name": "stderr",
          "output_type": "stream",
          "text": [
            "WARNING:absl:Compiled the loaded model, but the compiled metrics have yet to be built. `model.compile_metrics` will be empty until you train or evaluate the model.\n"
          ]
        },
        {
          "name": "stdout",
          "output_type": "stream",
          "text": [
            "\u001b[1m9/9\u001b[0m \u001b[32m━━━━━━━━━━━━━━━━━━━━\u001b[0m\u001b[37m\u001b[0m \u001b[1m1s\u001b[0m 73ms/step\n",
            "Precision: 0.9321\n",
            "Recall: 0.9805\n",
            "F1 Score: 0.9557\n",
            "Confusion Matrix:\n",
            "[[113  11]\n",
            " [  3 151]]\n"
          ]
        },
        {
          "data": {
            "image/png": "[encoded data removed]",
            "text/plain": [
              "<Figure size 600x600 with 2 Axes>"
            ]
          },
          "metadata": {},
          "output_type": "display_data"
        }
      ],
      "source": [
        "import os\n",
        "import numpy as np\n",
        "import tensorflow as tf\n",
        "from tensorflow.keras.preprocessing.image import load_img, img_to_array\n",
        "from tensorflow.keras.applications.vgg19 import VGG19, preprocess_input\n",
        "from tensorflow.keras.models import Model\n",
        "from sklearn.preprocessing import LabelEncoder\n",
        "from sklearn.metrics import precision_score, recall_score, f1_score, confusion_matrix\n",
        "import matplotlib.pyplot as plt\n",
        "import seaborn as sns\n",
        "\n",
        "\n",
        "source_folder = \"/content/drive/MyDrive/Colab_Notebooks/major_new_dataset/source_folder\"\n",
        "test_dir = os.path.join(source_folder, \"test\")\n",
        "\n",
        "IMG_SIZE = (224, 224)  # VGG19 input size\n",
        "BATCH_SIZE = 32\n",
        "\n",
        "\n",
        "base_model = VGG19(weights='imagenet', include_top=False, input_shape=(224, 224, 3))\n",
        "vgg19_model = Model(inputs=base_model.input, outputs=base_model.get_layer('block5_pool').output)\n",
        "vgg19_model.trainable = False\n",
        "\n",
        "\n",
        "def load_data(directory):\n",
        "    data, labels = [], []\n",
        "    for label in os.listdir(directory):\n",
        "        class_dir = os.path.join(directory, label)\n",
        "        if os.path.isdir(class_dir):\n",
        "            for img_name in os.listdir(class_dir):\n",
        "                img_path = os.path.join(class_dir, img_name)\n",
        "                img = load_img(img_path, target_size=IMG_SIZE)\n",
        "                img_array = img_to_array(img)\n",
        "                img_array = preprocess_input(img_array)\n",
        "                data.append(img_array)\n",
        "                labels.append(label)\n",
        "    data = np.array(data)\n",
        "    labels = np.array(labels)\n",
        "    return data, labels\n",
        "\n",
        "\n",
        "test_data, test_labels = load_data(test_dir)\n",
        "\n",
        "\n",
        "label_encoder = LabelEncoder()\n",
        "test_labels_encoded = label_encoder.fit_transform(test_labels)\n",
        "\n",
        "\n",
        "test_features = vgg19_model.predict(test_data, batch_size=BATCH_SIZE, verbose=1)\n",
        "\n",
        "inception_model = tf.keras.models.load_model(\"/content/drive/MyDrive/Colab_Notebooks/major_new_dataset/model_saving/inception_v2_with_vgg19_features.h5\")\n",
        "\n",
        "\n",
        "predicted_probs = inception_model.predict(test_features, batch_size=BATCH_SIZE)\n",
        "predicted_labels = (predicted_probs > 0.5).astype(int)\n",
        "\n",
        "# Computing precision, recall, F1 score, and confusion matrix\n",
        "precision = precision_score(test_labels_encoded, predicted_labels)\n",
        "recall = recall_score(test_labels_encoded, predicted_labels)\n",
        "f1 = f1_score(test_labels_encoded, predicted_labels)\n",
        "conf_matrix = confusion_matrix(test_labels_encoded, predicted_labels)\n",
        "\n",
        "\n",
        "print(f\"Precision: {precision:.4f}\")\n",
        "print(f\"Recall: {recall:.4f}\")\n",
        "print(f\"F1 Score: {f1:.4f}\")\n",
        "print(\"Confusion Matrix:\")\n",
        "print(conf_matrix)\n",
        "\n",
        "\n",
        "plt.figure(figsize=(6, 6))\n",
        "sns.heatmap(conf_matrix, annot=True, fmt='d', cmap='Blues', xticklabels=label_encoder.classes_, yticklabels=label_encoder.classes_)\n",
        "plt.title('Confusion Matrix')\n",
        "plt.xlabel('Predicted Label')\n",
        "plt.ylabel('True Label')\n",
        "plt.show()"
      ]
    },
    {
      "cell_type": "code",
      "execution_count": null,
      "metadata": {
        "colab": {
          "background_save": true
        },
        "id": "9unJofiiyRvz",
        "outputId": "08becb9b-8791-4d46-a5b9-c54c39f19290"
      },
      "outputs": [
        {
          "name": "stdout",
          "output_type": "stream",
          "text": [
            "\u001b[1m9/9\u001b[0m \u001b[32m━━━━━━━━━━━━━━━━━━━━\u001b[0m\u001b[37m\u001b[0m \u001b[1m2s\u001b[0m 187ms/step\n"
          ]
        },
        {
          "name": "stderr",
          "output_type": "stream",
          "text": [
            "WARNING:absl:Compiled the loaded model, but the compiled metrics have yet to be built. `model.compile_metrics` will be empty until you train or evaluate the model.\n"
          ]
        },
        {
          "name": "stdout",
          "output_type": "stream",
          "text": [
            "\u001b[1m9/9\u001b[0m \u001b[32m━━━━━━━━━━━━━━━━━━━━\u001b[0m\u001b[37m\u001b[0m \u001b[1m2s\u001b[0m 99ms/step\n"
          ]
        },
        {
          "data": {
            "image/png": "[encoded data removed]",
            "text/plain": [
              "<Figure size 800x600 with 1 Axes>"
            ]
          },
          "metadata": {},
          "output_type": "display_data"
        }
      ],
      "source": [
        "import os\n",
        "import numpy as np\n",
        "import tensorflow as tf\n",
        "from tensorflow.keras.preprocessing.image import load_img, img_to_array\n",
        "from tensorflow.keras.applications.vgg19 import VGG19, preprocess_input\n",
        "from tensorflow.keras.models import Model\n",
        "from sklearn.preprocessing import LabelEncoder\n",
        "from sklearn.metrics import roc_curve, auc\n",
        "import matplotlib.pyplot as plt\n",
        "\n",
        "\n",
        "source_folder = \"/content/drive/MyDrive/Colab_Notebooks/major_new_dataset/source_folder\"\n",
        "test_dir = os.path.join(source_folder, \"test\")\n",
        "\n",
        "\n",
        "IMG_SIZE = (224, 224)\n",
        "BATCH_SIZE = 32\n",
        "\n",
        "\n",
        "base_model = VGG19(weights='imagenet', include_top=False, input_shape=(224, 224, 3))\n",
        "vgg19_model = Model(inputs=base_model.input, outputs=base_model.get_layer('block5_pool').output)\n",
        "vgg19_model.trainable = False\n",
        "\n",
        "\n",
        "def load_data(directory):\n",
        "    data = []\n",
        "    labels = []\n",
        "    for label in os.listdir(directory):\n",
        "        class_dir = os.path.join(directory, label)\n",
        "        if os.path.isdir(class_dir):\n",
        "            for img_name in os.listdir(class_dir):\n",
        "                img_path = os.path.join(class_dir, img_name)\n",
        "                img = load_img(img_path, target_size=IMG_SIZE)\n",
        "                img_array = img_to_array(img)\n",
        "                img_array = preprocess_input(img_array)\n",
        "                data.append(img_array)\n",
        "                labels.append(label)\n",
        "    data = np.array(data)\n",
        "    labels = np.array(labels)\n",
        "    return data, labels\n",
        "\n",
        "\n",
        "test_data, test_labels = load_data(test_dir)\n",
        "\n",
        "\n",
        "label_encoder = LabelEncoder()\n",
        "test_labels_encoded = label_encoder.fit_transform(test_labels)\n",
        "\n",
        "\n",
        "test_features = vgg19_model.predict(test_data, batch_size=BATCH_SIZE, verbose=1)\n",
        "\n",
        "\n",
        "test_features_reshaped = test_features.reshape(test_features.shape[0], 7, 7, 512)\n",
        "\n",
        "\n",
        "inception_model = tf.keras.models.load_model(\"/content/drive/MyDrive/Colab_Notebooks/major_new_dataset/model_saving/inception_v2_with_vgg19_features.h5\")\n",
        "\n",
        "\n",
        "predicted_probs = inception_model.predict(test_features_reshaped, batch_size=BATCH_SIZE)\n",
        "\n",
        "\n",
        "fpr, tpr, thresholds = roc_curve(test_labels_encoded, predicted_probs)\n",
        "roc_auc = auc(fpr, tpr)\n",
        "\n",
        "# Plotting ROC curve\n",
        "plt.figure(figsize=(8, 6))\n",
        "plt.plot(fpr, tpr, color='blue', label=f'ROC Curve (AUC = {roc_auc:.4f})')\n",
        "plt.plot([0, 1], [0, 1], color='red', linestyle='--')\n",
        "plt.title('Receiver Operating Characteristic (ROC) Curve')\n",
        "plt.xlabel('False Positive Rate')\n",
        "plt.ylabel('True Positive Rate')\n",
        "plt.legend(loc='lower right')\n",
        "plt.grid(alpha=0.3)\n",
        "plt.show()\n"
      ]
    }
  ],
  "metadata": {
    "accelerator": "GPU",
    "colab": {
      "gpuType": "T4",
      "provenance": []
    },
    "kernelspec": {
      "display_name": "Python 3",
      "name": "python3"
    },
    "language_info": {
      "name": "python"
    }
  },
  "nbformat": 4,
  "nbformat_minor": 0
}