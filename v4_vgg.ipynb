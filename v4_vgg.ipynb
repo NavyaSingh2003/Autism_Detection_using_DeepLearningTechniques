{
  "nbformat": 4,
  "nbformat_minor": 0,
  "metadata": {
    "colab": {
      "provenance": [],
      "gpuType": "T4"
    },
    "kernelspec": {
      "name": "python3",
      "display_name": "Python 3"
    },
    "language_info": {
      "name": "python"
    },
    "accelerator": "GPU"
  },
  "cells": [
    {
      "cell_type": "code",
      "execution_count": null,
      "metadata": {
        "colab": {
          "base_uri": "https://localhost:8080/"
        },
        "id": "ofLsJr0KB9iC",
        "outputId": "8cedf03f-b174-4f3e-d96e-ed43895dc5f0"
      },
      "outputs": [
        {
          "output_type": "stream",
          "name": "stdout",
          "text": [
            "Mounted at /content/drive\n"
          ]
        }
      ],
      "source": [
        "from google.colab import drive\n",
        "drive.mount('/content/drive')"
      ]
    },
    {
      "cell_type": "code",
      "source": [
        "\n",
        "# Import necessary libraries\n",
        "import os\n",
        "import numpy as np\n",
        "import tensorflow as tf\n",
        "from tensorflow.keras import layers, models, optimizers\n",
        "from tensorflow.keras.preprocessing.image import ImageDataGenerator\n",
        "from tensorflow.keras.callbacks import ModelCheckpoint\n",
        "from keras.models import Model\n",
        "from tensorflow.keras.models import Sequential\n",
        "from keras.layers import Input, Conv2D, MaxPool2D, AveragePooling2D, Flatten, Dense, Dropout, concatenate, GlobalAveragePooling2D\n",
        "from tensorflow.keras.optimizers import Adam\n",
        "import keras\n",
        "from tensorflow.keras.applications import VGG19\n",
        "from tensorflow.keras.layers import BatchNormalization\n",
        "from tensorflow.keras.layers import Activation\n",
        "\n"
      ],
      "metadata": {
        "id": "_EixY-D1CzCR"
      },
      "execution_count": null,
      "outputs": []
    },
    {
      "cell_type": "code",
      "source": [
        "import os\n",
        "import numpy as np\n",
        "import tensorflow as tf\n",
        "from tensorflow.keras.preprocessing.image import load_img, img_to_array\n",
        "from tensorflow.keras.applications.vgg19 import VGG19, preprocess_input\n",
        "from tensorflow.keras.models import Model\n",
        "from tensorflow.keras.layers import Input, Dense, Dropout, Conv2D, MaxPooling2D, AveragePooling2D, Flatten, Concatenate\n",
        "from sklearn.preprocessing import LabelEncoder\n",
        "\n",
        "source_folder = \"/content/drive/MyDrive/Colab_Notebooks/major_new_dataset/source_folder\"\n",
        "train_dir = os.path.join(source_folder, \"train\")\n",
        "test_dir = os.path.join(source_folder, \"test\")\n",
        "\n",
        "IMG_SIZE = (224, 224)  # VGG19 input size\n",
        "BATCH_SIZE = 32\n",
        "\n",
        "# Load VGG19 for feature extraction\n",
        "base_model = VGG19(weights='imagenet', include_top=False, input_shape=(224, 224, 3))\n",
        "vgg19_model = Model(inputs=base_model.input, outputs=base_model.get_layer('block5_pool').output)\n",
        "vgg19_model.trainable = False\n",
        "\n",
        "def load_data(directory):\n",
        "    data, labels = [], []\n",
        "    for label in os.listdir(directory):\n",
        "        class_dir = os.path.join(directory, label)\n",
        "        if os.path.isdir(class_dir):\n",
        "            for img_name in os.listdir(class_dir):\n",
        "                img_path = os.path.join(class_dir, img_name)\n",
        "                img = load_img(img_path, target_size=IMG_SIZE)\n",
        "                img_array = img_to_array(img)\n",
        "                img_array = preprocess_input(img_array)\n",
        "                data.append(img_array)\n",
        "                labels.append(label)\n",
        "    data = np.array(data)\n",
        "    labels = np.array(labels)\n",
        "    return data, labels\n",
        "\n",
        "train_data, train_labels = load_data(train_dir)\n",
        "test_data, test_labels = load_data(test_dir)\n",
        "\n",
        "# Encoding labels as integers (ASD=0, TD=1)\n",
        "label_encoder = LabelEncoder()\n",
        "train_labels = label_encoder.fit_transform(train_labels)\n",
        "test_labels = label_encoder.transform(test_labels)\n",
        "\n",
        "# Extracting features using VGG19\n",
        "train_features = vgg19_model.predict(train_data, batch_size=BATCH_SIZE, verbose=1)\n",
        "test_features = vgg19_model.predict(test_data, batch_size=BATCH_SIZE, verbose=1)\n",
        "\n",
        "\n",
        "# Defining the Inception V4 architecture\n",
        "\n",
        "def inception_a(x, filters):\n",
        "\n",
        "    branch1 = Conv2D(filters[0], (1, 1), padding='same', activation='relu')(x)\n",
        "\n",
        "    branch2 = Conv2D(filters[1], (1, 1), padding='same', activation='relu')(x)\n",
        "    branch2 = Conv2D(filters[2], (3, 3), padding='same', activation='relu')(branch2)\n",
        "\n",
        "    branch3 = Conv2D(filters[3], (1, 1), padding='same', activation='relu')(x)\n",
        "    branch3 = Conv2D(filters[4], (5, 5), padding='same', activation='relu')(branch3)\n",
        "\n",
        "    branch4 = MaxPooling2D((3, 3), strides=(1, 1), padding='same')(x)\n",
        "    branch4 = Conv2D(filters[5], (1, 1), padding='same', activation='relu')(branch4)\n",
        "\n",
        "    output = Concatenate(axis=-1)([branch1, branch2, branch3, branch4])\n",
        "    return output\n",
        "\n",
        "def inception_b(x, filters):\n",
        "\n",
        "    branch1 = Conv2D(filters[0], (1, 1), padding='same', activation='relu')(x)\n",
        "\n",
        "    branch2 = Conv2D(filters[1], (1, 1), padding='same', activation='relu')(x)\n",
        "    branch2 = Conv2D(filters[2], (3, 3), padding='same', activation='relu')(branch2)\n",
        "\n",
        "    branch3 = Conv2D(filters[3], (1, 1), padding='same', activation='relu')(x)\n",
        "    branch3 = Conv2D(filters[4], (5, 5), padding='same', activation='relu')(branch3)\n",
        "\n",
        "    branch4 = AveragePooling2D((3, 3), strides=(1, 1), padding='same')(x)\n",
        "    branch4 = Conv2D(filters[5], (1, 1), padding='same', activation='relu')(branch4)\n",
        "\n",
        "    output = Concatenate(axis=-1)([branch1, branch2, branch3, branch4])\n",
        "    return output\n",
        "\n",
        "def inception_c(x, filters):\n",
        "\n",
        "    branch1 = Conv2D(filters[0], (1, 1), padding='same', activation='relu')(x)\n",
        "\n",
        "    branch2 = Conv2D(filters[1], (1, 1), padding='same', activation='relu')(x)\n",
        "    branch2 = Conv2D(filters[2], (3, 3), padding='same', activation='relu')(branch2)\n",
        "\n",
        "    branch3 = Conv2D(filters[3], (1, 1), padding='same', activation='relu')(x)\n",
        "    branch3 = Conv2D(filters[4], (5, 5), padding='same', activation='relu')(branch3)\n",
        "\n",
        "    branch4 = MaxPooling2D((3, 3), strides=(1, 1), padding='same')(x)\n",
        "    branch4 = Conv2D(filters[5], (1, 1), padding='same', activation='relu')(branch4)\n",
        "\n",
        "    output = Concatenate(axis=-1)([branch1, branch2, branch3, branch4])\n",
        "    return output\n",
        "\n",
        "# Building the Inception V4 model\n",
        "input_layer = Input(shape=(7, 7, 512))  # VGG19 output shape (7x7x512)\n",
        "x = inception_a(input_layer, [64, 128, 128, 32, 32, 32])\n",
        "x = inception_b(x, [128, 256, 256, 64, 64, 64])\n",
        "x = inception_c(x, [256, 512, 512, 128, 128, 128])\n",
        "\n",
        "x = AveragePooling2D(pool_size=(2, 2))(x)\n",
        "x = Flatten()(x)\n",
        "x = Dense(1024, activation='relu')(x)\n",
        "x = Dropout(0.5)(x)\n",
        "x = Dense(1, activation='sigmoid')(x)\n",
        "\n",
        "inception_v4_model = Model(inputs=input_layer, outputs=x)\n",
        "\n",
        "inception_v4_model.compile(optimizer='adam', loss='binary_crossentropy', metrics=['accuracy'])\n",
        "\n",
        "# Training the model using the training data\n",
        "inception_v4_model.fit(\n",
        "    train_features, train_labels,\n",
        "    batch_size=BATCH_SIZE,\n",
        "    epochs=30\n",
        ")\n",
        "\n",
        "test_loss, test_acc = inception_v4_model.evaluate(test_features, test_labels)\n",
        "print(f\"Inception V4 Test Accuracy: {test_acc * 100:.2f}%\")\n",
        "\n",
        "# Saving the model\n",
        "inception_v4_model.save(\"/content/drive/MyDrive/Colab_Notebooks/major_new_dataset/model_saving/inception_v4_with_vgg19_features.h5\")\n",
        "print(\"Model saved as 'inception_v4_with_vgg19_features.h5'\")\n"
      ],
      "metadata": {
        "colab": {
          "base_uri": "https://localhost:8080/"
        },
        "id": "SxYOGjNBMm60",
        "outputId": "c090fea9-54c8-4ab4-a887-cf8931465400"
      },
      "execution_count": 1,
      "outputs": [
        {
          "output_type": "stream",
          "name": "stderr",
          "text": [
            "WARNING:absl:You are saving your model as an HDF5 file via `model.save()` or `keras.saving.save_model(model)`. This file format is considered legacy. We recommend using instead the native Keras format, e.g. `model.save('my_model.keras')` or `keras.saving.save_model(model, 'my_model.keras')`.\n"
          ]
        },
        {
          "output_type": "stream",
          "name": "stdout",
          "text": [
            "Inception V4 Test Accuracy: 94.24%\n",
            "Model saved as 'inception_v4_with_vgg19_features.h5'\n"
          ]
        }
      ]
    },
    {
      "cell_type": "code",
      "source": [
        "import os\n",
        "import numpy as np\n",
        "import tensorflow as tf\n",
        "from tensorflow.keras.preprocessing.image import load_img, img_to_array\n",
        "from tensorflow.keras.applications.vgg19 import VGG19, preprocess_input\n",
        "from tensorflow.keras.models import Model\n",
        "from sklearn.preprocessing import LabelEncoder\n",
        "from sklearn.metrics import precision_score, recall_score, f1_score, confusion_matrix\n",
        "import matplotlib.pyplot as plt\n",
        "import seaborn as sns\n",
        "\n",
        "source_folder = \"/content/drive/MyDrive/Colab_Notebooks/major_new_dataset/source_folder\"\n",
        "test_dir = os.path.join(source_folder, \"test\")\n",
        "\n",
        "IMG_SIZE = (224, 224)  # VGG19 input size\n",
        "BATCH_SIZE = 32\n",
        "\n",
        "# Loading VGG19 for feature extraction\n",
        "base_model = VGG19(weights='imagenet', include_top=False, input_shape=(224, 224, 3))\n",
        "vgg19_model = Model(inputs=base_model.input, outputs=base_model.get_layer('block5_pool').output)\n",
        "vgg19_model.trainable = False\n",
        "\n",
        "\n",
        "def load_data(directory):\n",
        "    data, labels = [], []\n",
        "    for label in os.listdir(directory):\n",
        "        class_dir = os.path.join(directory, label)\n",
        "        if os.path.isdir(class_dir):\n",
        "            for img_name in os.listdir(class_dir):\n",
        "                img_path = os.path.join(class_dir, img_name)\n",
        "                img = load_img(img_path, target_size=IMG_SIZE)\n",
        "                img_array = img_to_array(img)\n",
        "                img_array = preprocess_input(img_array)\n",
        "                data.append(img_array)\n",
        "                labels.append(label)\n",
        "    data = np.array(data)\n",
        "    labels = np.array(labels)\n",
        "    return data, labels\n",
        "\n",
        "\n",
        "test_data, test_labels = load_data(test_dir)\n",
        "\n",
        "\n",
        "label_encoder = LabelEncoder()\n",
        "test_labels_encoded = label_encoder.fit_transform(test_labels)\n",
        "\n",
        "test_features = vgg19_model.predict(test_data, batch_size=BATCH_SIZE, verbose=1)\n",
        "\n",
        "\n",
        "inception_model = tf.keras.models.load_model(\"/content/drive/MyDrive/Colab_Notebooks/major_new_dataset/model_saving/inception_v4_with_vgg19_features.h5\")\n",
        "\n",
        "\n",
        "predicted_probs = inception_model.predict(test_features, batch_size=BATCH_SIZE)\n",
        "predicted_labels = (predicted_probs > 0.5).astype(int)\n",
        "\n",
        "# Computing precision, recall, F1 score, and confusion matrix\n",
        "precision = precision_score(test_labels_encoded, predicted_labels)\n",
        "recall = recall_score(test_labels_encoded, predicted_labels)\n",
        "f1 = f1_score(test_labels_encoded, predicted_labels)\n",
        "conf_matrix = confusion_matrix(test_labels_encoded, predicted_labels)\n",
        "\n",
        "\n",
        "print(f\"Precision: {precision:.4f}\")\n",
        "print(f\"Recall: {recall:.4f}\")\n",
        "print(f\"F1 Score: {f1:.4f}\")\n",
        "print(\"Confusion Matrix:\")\n",
        "print(conf_matrix)\n",
        "\n",
        "\n",
        "plt.figure(figsize=(6, 6))\n",
        "sns.heatmap(conf_matrix, annot=True, fmt='d', cmap='Blues', xticklabels=label_encoder.classes_, yticklabels=label_encoder.classes_)\n",
        "plt.title('Confusion Matrix')\n",
        "plt.xlabel('Predicted Label')\n",
        "plt.ylabel('True Label')\n",
        "plt.show()"
      ],
      "metadata": {
        "colab": {
          "base_uri": "https://localhost:8080/",
          "height": 755
        },
        "id": "yxfGVWp_lSJM",
        "outputId": "1541d1f4-715d-40a3-87d5-0cf19aece50b"
      },
      "execution_count": null,
      "outputs": [
        {
          "output_type": "stream",
          "name": "stdout",
          "text": [
            "Downloading data from https://storage.googleapis.com/tensorflow/keras-applications/vgg19/vgg19_weights_tf_dim_ordering_tf_kernels_notop.h5\n",
            "\u001b[1m80134624/80134624\u001b[0m \u001b[32m━━━━━━━━━━━━━━━━━━━━\u001b[0m\u001b[37m\u001b[0m \u001b[1m0s\u001b[0m 0us/step\n",
            "\u001b[1m9/9\u001b[0m \u001b[32m━━━━━━━━━━━━━━━━━━━━\u001b[0m\u001b[37m\u001b[0m \u001b[1m23s\u001b[0m 1s/step\n"
          ]
        },
        {
          "output_type": "stream",
          "name": "stderr",
          "text": [
            "WARNING:absl:Compiled the loaded model, but the compiled metrics have yet to be built. `model.compile_metrics` will be empty until you train or evaluate the model.\n"
          ]
        },
        {
          "output_type": "stream",
          "name": "stdout",
          "text": [
            "\u001b[1m9/9\u001b[0m \u001b[32m━━━━━━━━━━━━━━━━━━━━\u001b[0m\u001b[37m\u001b[0m \u001b[1m4s\u001b[0m 186ms/step\n",
            "Precision: 0.9367\n",
            "Recall: 0.9610\n",
            "F1 Score: 0.9487\n",
            "Confusion Matrix:\n",
            "[[114  10]\n",
            " [  6 148]]\n"
          ]
        },
        {
          "output_type": "display_data",
          "data": {
            "text/plain": [
              "<Figure size 600x600 with 2 Axes>"
            ],
            "image/png": "[encoded data removed]"
          },
          "metadata": {}
        }
      ]
    },
    {
      "cell_type": "code",
      "source": [
        "import os\n",
        "import numpy as np\n",
        "import tensorflow as tf\n",
        "from tensorflow.keras.preprocessing.image import load_img, img_to_array\n",
        "from tensorflow.keras.applications.vgg19 import VGG19, preprocess_input\n",
        "from tensorflow.keras.models import Model\n",
        "from sklearn.preprocessing import LabelEncoder\n",
        "from sklearn.metrics import roc_curve, auc\n",
        "import matplotlib.pyplot as plt\n",
        "\n",
        "\n",
        "source_folder = \"/content/drive/MyDrive/Colab_Notebooks/major_new_dataset/source_folder\"\n",
        "test_dir = os.path.join(source_folder, \"test\")\n",
        "\n",
        "\n",
        "IMG_SIZE = (224, 224)\n",
        "BATCH_SIZE = 32\n",
        "\n",
        "\n",
        "base_model = VGG19(weights='imagenet', include_top=False, input_shape=(224, 224, 3))\n",
        "vgg19_model = Model(inputs=base_model.input, outputs=base_model.get_layer('block5_pool').output)\n",
        "vgg19_model.trainable = False\n",
        "\n",
        "\n",
        "def load_data(directory):\n",
        "    data = []\n",
        "    labels = []\n",
        "    for label in os.listdir(directory):\n",
        "        class_dir = os.path.join(directory, label)\n",
        "        if os.path.isdir(class_dir):\n",
        "            for img_name in os.listdir(class_dir):\n",
        "                img_path = os.path.join(class_dir, img_name)\n",
        "                img = load_img(img_path, target_size=IMG_SIZE)\n",
        "                img_array = img_to_array(img)\n",
        "                img_array = preprocess_input(img_array)\n",
        "                data.append(img_array)\n",
        "                labels.append(label)\n",
        "    data = np.array(data)\n",
        "    labels = np.array(labels)\n",
        "    return data, labels\n",
        "\n",
        "\n",
        "test_data, test_labels = load_data(test_dir)\n",
        "\n",
        "\n",
        "label_encoder = LabelEncoder()\n",
        "test_labels_encoded = label_encoder.fit_transform(test_labels)\n",
        "\n",
        "\n",
        "test_features = vgg19_model.predict(test_data, batch_size=BATCH_SIZE, verbose=1)\n",
        "\n",
        "\n",
        "test_features_reshaped = test_features.reshape(test_features.shape[0], 7, 7, 512)\n",
        "\n",
        "\n",
        "inception_model = tf.keras.models.load_model(\"/content/drive/MyDrive/Colab_Notebooks/major_new_dataset/model_saving/inception_v4_with_vgg19_features.h5\")\n",
        "\n",
        "\n",
        "predicted_probs = inception_model.predict(test_features_reshaped, batch_size=BATCH_SIZE)\n",
        "\n",
        "\n",
        "fpr, tpr, thresholds = roc_curve(test_labels_encoded, predicted_probs)\n",
        "roc_auc = auc(fpr, tpr)\n",
        "\n",
        "# plotting ROC curve\n",
        "plt.figure(figsize=(8, 6))\n",
        "plt.plot(fpr, tpr, color='blue', label=f'ROC Curve (AUC = {roc_auc:.4f})')\n",
        "plt.plot([0, 1], [0, 1], color='red', linestyle='--')\n",
        "plt.title('Receiver Operating Characteristic (ROC) Curve')\n",
        "plt.xlabel('False Positive Rate')\n",
        "plt.ylabel('True Positive Rate')\n",
        "plt.legend(loc='lower right')\n",
        "plt.grid(alpha=0.3)\n",
        "plt.show()\n"
      ],
      "metadata": {
        "colab": {
          "base_uri": "https://localhost:8080/",
          "height": 651
        },
        "id": "iw4oxbGpXt9p",
        "outputId": "d691644e-62a6-497d-dbea-f2722fde5492"
      },
      "execution_count": null,
      "outputs": [
        {
          "output_type": "stream",
          "name": "stdout",
          "text": [
            "Downloading data from https://storage.googleapis.com/tensorflow/keras-applications/vgg19/vgg19_weights_tf_dim_ordering_tf_kernels_notop.h5\n",
            "\u001b[1m80134624/80134624\u001b[0m \u001b[32m━━━━━━━━━━━━━━━━━━━━\u001b[0m\u001b[37m\u001b[0m \u001b[1m0s\u001b[0m 0us/step\n",
            "\u001b[1m9/9\u001b[0m \u001b[32m━━━━━━━━━━━━━━━━━━━━\u001b[0m\u001b[37m\u001b[0m \u001b[1m24s\u001b[0m 1s/step\n"
          ]
        },
        {
          "output_type": "stream",
          "name": "stderr",
          "text": [
            "WARNING:absl:Compiled the loaded model, but the compiled metrics have yet to be built. `model.compile_metrics` will be empty until you train or evaluate the model.\n"
          ]
        },
        {
          "output_type": "stream",
          "name": "stdout",
          "text": [
            "\u001b[1m9/9\u001b[0m \u001b[32m━━━━━━━━━━━━━━━━━━━━\u001b[0m\u001b[37m\u001b[0m \u001b[1m4s\u001b[0m 201ms/step\n"
          ]
        },
        {
          "output_type": "display_data",
          "data": {
            "text/plain": [
              "<Figure size 800x600 with 1 Axes>"
            ],
            "image/png": "[encoded data removed]"
          },
          "metadata": {}
        }
      ]
    }
  ]
}