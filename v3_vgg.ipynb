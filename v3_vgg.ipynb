{
  "nbformat": 4,
  "nbformat_minor": 0,
  "metadata": {
    "colab": {
      "provenance": []
    },
    "kernelspec": {
      "name": "python3",
      "display_name": "Python 3"
    },
    "language_info": {
      "name": "python"
    }
  },
  "cells": [
    {
      "cell_type": "code",
      "source": [
        "from google.colab import drive\n",
        "drive.mount('/content/drive')"
      ],
      "metadata": {
        "id": "QKrHsDb2vbKI",
        "colab": {
          "base_uri": "https://localhost:8080/"
        },
        "outputId": "0bad63c1-a3bd-4972-84b5-8e044a730345"
      },
      "execution_count": null,
      "outputs": [
        {
          "output_type": "stream",
          "name": "stdout",
          "text": [
            "Mounted at /content/drive\n"
          ]
        }
      ]
    },
    {
      "cell_type": "code",
      "source": [
        "\n",
        "# Import necessary libraries\n",
        "import os\n",
        "import numpy as np\n",
        "import tensorflow as tf\n",
        "from tensorflow.keras import layers, models, optimizers\n",
        "from tensorflow.keras.preprocessing.image import ImageDataGenerator\n",
        "from tensorflow.keras.callbacks import ModelCheckpoint\n",
        "from keras.models import Model\n",
        "from keras.layers import Input, Conv2D, MaxPool2D, AveragePooling2D, Flatten, Dense, Dropout, concatenate, GlobalAveragePooling2D\n",
        "import keras\n",
        "from tensorflow.keras.applications import VGG19\n",
        "from tensorflow.keras.layers import BatchNormalization, Activation\n",
        "from tensorflow.keras.layers import (\n",
        "    Input, Dense, Dropout, Conv2D, MaxPooling2D,\n",
        "    AveragePooling2D, GlobalAveragePooling2D, Flatten,\n",
        "    BatchNormalization, Activation, Concatenate\n",
        ")\n"
      ],
      "metadata": {
        "id": "uCLO3Rqqvhv4"
      },
      "execution_count": null,
      "outputs": []
    },
    {
      "cell_type": "code",
      "source": [
        "import os\n",
        "import numpy as np\n",
        "import tensorflow as tf\n",
        "from tensorflow.keras.preprocessing.image import load_img, img_to_array\n",
        "from tensorflow.keras.applications.vgg19 import VGG19, preprocess_input\n",
        "from tensorflow.keras.models import Model\n",
        "from tensorflow.keras.layers import (\n",
        "    Input, Conv2D, MaxPooling2D, AveragePooling2D, Dense, Dropout, Flatten, GlobalAveragePooling2D, Concatenate, BatchNormalization\n",
        ")\n",
        "from sklearn.preprocessing import LabelEncoder\n",
        "\n",
        "\n",
        "source_folder = \"/content/drive/MyDrive/Colab_Notebooks/major_new_dataset/source_folder\"\n",
        "train_dir = os.path.join(source_folder, \"train\")\n",
        "test_dir = os.path.join(source_folder, \"test\")\n",
        "\n",
        "\n",
        "IMG_SIZE = (224, 224)\n",
        "BATCH_SIZE = 32\n",
        "\n",
        "\n",
        "base_model = VGG19(weights='imagenet', include_top=False, input_shape=(224, 224, 3))\n",
        "vgg19_model = Model(inputs=base_model.input, outputs=base_model.get_layer('block5_pool').output)  # Features from block5_pool\n",
        "vgg19_model.trainable = False\n",
        "\n",
        "\n",
        "def load_data(directory):\n",
        "    data = []\n",
        "    labels = []\n",
        "    for label in os.listdir(directory):\n",
        "        class_dir = os.path.join(directory, label)\n",
        "        if os.path.isdir(class_dir):\n",
        "            for img_name in os.listdir(class_dir):\n",
        "                img_path = os.path.join(class_dir, img_name)\n",
        "                img = load_img(img_path, target_size=IMG_SIZE)\n",
        "                img_array = img_to_array(img)\n",
        "                img_array = preprocess_input(img_array)\n",
        "                data.append(img_array)\n",
        "                labels.append(label)\n",
        "    return np.array(data), np.array(labels)\n",
        "\n",
        "\n",
        "train_data, train_labels = load_data(train_dir)\n",
        "test_data, test_labels = load_data(test_dir)\n",
        "\n",
        "\n",
        "label_encoder = LabelEncoder()\n",
        "train_labels = label_encoder.fit_transform(train_labels)\n",
        "test_labels = label_encoder.transform(test_labels)\n",
        "\n",
        "\n",
        "train_features = vgg19_model.predict(train_data, batch_size=BATCH_SIZE, verbose=1)\n",
        "test_features = vgg19_model.predict(test_data, batch_size=BATCH_SIZE, verbose=1)\n",
        "\n",
        "\n",
        "train_features = train_features.reshape(-1, train_features.shape[1], train_features.shape[2], train_features.shape[3])\n",
        "test_features = test_features.reshape(-1, test_features.shape[1], test_features.shape[2], test_features.shape[3])\n",
        "\n",
        "\n",
        "def build_inception_v3_scratch(input_shape):\n",
        "    input_layer = Input(shape=input_shape)\n",
        "\n",
        "\n",
        "    branch1x1 = Conv2D(64, (1, 1), padding=\"same\", activation=\"relu\")(input_layer)\n",
        "    branch1x1 = BatchNormalization()(branch1x1)\n",
        "\n",
        "    branch3x3 = Conv2D(64, (1, 1), padding=\"same\", activation=\"relu\")(input_layer)\n",
        "    branch3x3 = BatchNormalization()(branch3x3)\n",
        "    branch3x3 = Conv2D(64, (3, 3), padding=\"same\", activation=\"relu\")(branch3x3)\n",
        "    branch3x3 = BatchNormalization()(branch3x3)\n",
        "\n",
        "    branch5x5 = Conv2D(32, (1, 1), padding=\"same\", activation=\"relu\")(input_layer)\n",
        "    branch5x5 = BatchNormalization()(branch5x5)\n",
        "    branch5x5 = Conv2D(32, (5, 5), padding=\"same\", activation=\"relu\")(branch5x5)\n",
        "    branch5x5 = BatchNormalization()(branch5x5)\n",
        "\n",
        "    branch_pool = MaxPooling2D((3, 3), strides=(1, 1), padding=\"same\")(input_layer)\n",
        "    branch_pool = Conv2D(32, (1, 1), padding=\"same\", activation=\"relu\")(branch_pool)\n",
        "    branch_pool = BatchNormalization()(branch_pool)\n",
        "\n",
        "    x = Concatenate(axis=-1)([branch1x1, branch3x3, branch5x5, branch_pool])\n",
        "\n",
        "\n",
        "    x = GlobalAveragePooling2D()(x)\n",
        "\n",
        "\n",
        "    x = Dense(1024, activation=\"relu\")(x)\n",
        "    x = Dropout(0.5)(x)\n",
        "    x = Dense(1, activation=\"sigmoid\")(x)\n",
        "\n",
        "    return Model(inputs=input_layer, outputs=x)\n",
        "\n",
        "\n",
        "input_shape = train_features.shape[1:]\n",
        "inception_v3_model = build_inception_v3_scratch(input_shape)\n",
        "\n",
        "inception_v3_model.compile(optimizer='adam', loss='binary_crossentropy', metrics=['accuracy'])\n",
        "\n",
        "\n",
        "inception_v3_model.fit(\n",
        "    train_features, train_labels,\n",
        "    batch_size=BATCH_SIZE,\n",
        "    epochs=25\n",
        ")\n",
        "\n",
        "\n",
        "test_loss, test_acc = inception_v3_model.evaluate(test_features, test_labels)\n",
        "print(f\"Test Accuracy: {test_acc * 100:.2f}%\")\n",
        "\n",
        "\n",
        "model_path = \"/content/drive/MyDrive/Colab_Notebooks/major_new_dataset/model_saving/inception_v3_scratch_with_vgg19_features.h5\"\n",
        "inception_v3_model.save(model_path)\n",
        "print(f\"Model saved at '{model_path}'\")"
      ],
      "metadata": {
        "colab": {
          "base_uri": "https://localhost:8080/"
        },
        "id": "Q2CI-qqfOyPK",
        "outputId": "3213e262-ccd9-4aba-d8c3-fe9fa750795f"
      },
      "execution_count": 3,
      "outputs": [
        {
          "output_type": "stream",
          "name": "stderr",
          "text": [
            "WARNING:root:You are saving your model as an HDF5 file via `model.save()` or `keras.saving.save_model(model)`. This file format is considered legacy. We recommend using instead the native Keras format, e.g. `model.save('my_model.keras')` or `keras.saving.save_model(model, 'my_model.keras')`.\n"
          ]
        },
        {
          "output_type": "stream",
          "name": "stdout",
          "text": [
            "Test Accuracy: 96.04%\n",
            "Model saved at '/content/drive/MyDrive/Colab_Notebooks/major_new_dataset/model_saving/inception_v3_scratch_with_vgg19_features.h5'\n"
          ]
        }
      ]
    },
    {
      "cell_type": "code",
      "source": [
        "import os\n",
        "import numpy as np\n",
        "import tensorflow as tf\n",
        "from tensorflow.keras.preprocessing.image import load_img, img_to_array\n",
        "from tensorflow.keras.applications.vgg19 import VGG19, preprocess_input\n",
        "from tensorflow.keras.models import Model\n",
        "from sklearn.preprocessing import LabelEncoder\n",
        "from sklearn.metrics import roc_curve, auc\n",
        "import matplotlib.pyplot as plt\n",
        "\n",
        "source_folder = \"/content/drive/MyDrive/Colab_Notebooks/major_new_dataset/source_folder\"\n",
        "test_dir = os.path.join(source_folder, \"test\")\n",
        "\n",
        "\n",
        "IMG_SIZE = (224, 224)  # VGG19 input size\n",
        "BATCH_SIZE = 32\n",
        "\n",
        "\n",
        "base_model = VGG19(weights='imagenet', include_top=False, input_shape=(224, 224, 3))\n",
        "vgg19_model = Model(inputs=base_model.input, outputs=base_model.get_layer('block5_pool').output)  # Extract features from block5_pool\n",
        "vgg19_model.trainable = False\n",
        "\n",
        "\n",
        "def load_data(directory):\n",
        "    data = []\n",
        "    labels = []\n",
        "    for label in os.listdir(directory):\n",
        "        class_dir = os.path.join(directory, label)\n",
        "        if os.path.isdir(class_dir):\n",
        "            for img_name in os.listdir(class_dir):\n",
        "                img_path = os.path.join(class_dir, img_name)\n",
        "                img = load_img(img_path, target_size=IMG_SIZE)\n",
        "                img_array = img_to_array(img)\n",
        "                img_array = preprocess_input(img_array)\n",
        "                data.append(img_array)\n",
        "                labels.append(label)\n",
        "    data = np.array(data)\n",
        "    labels = np.array(labels)\n",
        "    return data, labels\n",
        "\n",
        "\n",
        "test_data, test_labels = load_data(test_dir)\n",
        "\n",
        "\n",
        "label_encoder = LabelEncoder()\n",
        "test_labels_encoded = label_encoder.fit_transform(test_labels)\n",
        "\n",
        "\n",
        "test_features = vgg19_model.predict(test_data, batch_size=BATCH_SIZE, verbose=1)\n",
        "\n",
        "\n",
        "test_features_reshaped = test_features.reshape(test_features.shape[0], 7, 7, 512)\n",
        "\n",
        "\n",
        "inception_model = tf.keras.models.load_model(\"/content/drive/MyDrive/Colab_Notebooks/major_new_dataset/model_saving/inception_v3_scratch_with_vgg19_features.h5\")\n",
        "\n",
        "\n",
        "predicted_probs = inception_model.predict(test_features_reshaped, batch_size=BATCH_SIZE)\n",
        "\n",
        "\n",
        "fpr, tpr, thresholds = roc_curve(test_labels_encoded, predicted_probs)\n",
        "roc_auc = auc(fpr, tpr)\n",
        "\n",
        "\n",
        "plt.figure(figsize=(8, 6))\n",
        "plt.plot(fpr, tpr, color='blue', label=f'ROC Curve (AUC = {roc_auc:.4f})')\n",
        "plt.plot([0, 1], [0, 1], color='red', linestyle='--')\n",
        "plt.title('Receiver Operating Characteristic (ROC) Curve')\n",
        "plt.xlabel('False Positive Rate')\n",
        "plt.ylabel('True Positive Rate')\n",
        "plt.legend(loc='lower right')\n",
        "plt.grid(alpha=0.3)\n",
        "plt.show()\n"
      ],
      "metadata": {
        "colab": {
          "base_uri": "https://localhost:8080/",
          "height": 616
        },
        "id": "c3PamQ9mjjQc",
        "outputId": "866c00a9-374b-4020-b4a1-97c5dc0631e9"
      },
      "execution_count": null,
      "outputs": [
        {
          "output_type": "stream",
          "name": "stdout",
          "text": [
            "\u001b[1m9/9\u001b[0m \u001b[32m━━━━━━━━━━━━━━━━━━━━\u001b[0m\u001b[37m\u001b[0m \u001b[1m2s\u001b[0m 194ms/step\n"
          ]
        },
        {
          "output_type": "stream",
          "name": "stderr",
          "text": [
            "WARNING:absl:Compiled the loaded model, but the compiled metrics have yet to be built. `model.compile_metrics` will be empty until you train or evaluate the model.\n"
          ]
        },
        {
          "output_type": "stream",
          "name": "stdout",
          "text": [
            "\u001b[1m9/9\u001b[0m \u001b[32m━━━━━━━━━━━━━━━━━━━━\u001b[0m\u001b[37m\u001b[0m \u001b[1m2s\u001b[0m 152ms/step\n"
          ]
        },
        {
          "output_type": "display_data",
          "data": {
            "text/plain": [
              "<Figure size 800x600 with 1 Axes>"
            ],
            "image/png": "[encoded data removed]"
          },
          "metadata": {}
        }
      ]
    },
    {
      "cell_type": "code",
      "source": [
        "import os\n",
        "import numpy as np\n",
        "import tensorflow as tf\n",
        "from tensorflow.keras.preprocessing.image import load_img, img_to_array\n",
        "from tensorflow.keras.applications.vgg19 import VGG19, preprocess_input\n",
        "from tensorflow.keras.models import Model\n",
        "from sklearn.preprocessing import LabelEncoder\n",
        "from sklearn.metrics import precision_score, recall_score, f1_score, confusion_matrix\n",
        "import matplotlib.pyplot as plt\n",
        "import seaborn as sns\n",
        "\n",
        "\n",
        "source_folder = \"/content/drive/MyDrive/Colab_Notebooks/major_new_dataset/source_folder\"\n",
        "test_dir = os.path.join(source_folder, \"test\")\n",
        "model_path = \"/content/drive/MyDrive/Colab_Notebooks/major_new_dataset/model_saving/inception_v3_scratch_with_vgg19_features.h5\"\n",
        "\n",
        "\n",
        "IMG_SIZE = (224, 224)\n",
        "BATCH_SIZE = 32\n",
        "\n",
        "# Loading VGG19 model for feature extraction\n",
        "base_model = VGG19(weights='imagenet', include_top=False, input_shape=(224, 224, 3))\n",
        "vgg19_model = Model(inputs=base_model.input, outputs=base_model.get_layer('block5_pool').output)\n",
        "vgg19_model.trainable = False\n",
        "\n",
        "\n",
        "def load_data(directory):\n",
        "    data, labels = [], []\n",
        "    for label in os.listdir(directory):\n",
        "        class_dir = os.path.join(directory, label)\n",
        "        if os.path.isdir(class_dir):\n",
        "            for img_name in os.listdir(class_dir):\n",
        "                img_path = os.path.join(class_dir, img_name)\n",
        "                img = load_img(img_path, target_size=IMG_SIZE)\n",
        "                img_array = img_to_array(img)\n",
        "                img_array = preprocess_input(img_array)\n",
        "                data.append(img_array)\n",
        "                labels.append(label)\n",
        "    return np.array(data), np.array(labels)\n",
        "\n",
        "\n",
        "test_data, test_labels = load_data(test_dir)\n",
        "\n",
        "\n",
        "label_encoder = LabelEncoder()\n",
        "test_labels_encoded = label_encoder.fit_transform(test_labels)\n",
        "\n",
        "\n",
        "test_features = vgg19_model.predict(test_data, batch_size=BATCH_SIZE, verbose=1)\n",
        "\n",
        "\n",
        "inception_model = tf.keras.models.load_model(model_path)\n",
        "\n",
        "predicted_probs = inception_model.predict(test_features, batch_size=BATCH_SIZE)\n",
        "predicted_labels = (predicted_probs > 0.5).astype(int)\n",
        "\n",
        "\n",
        "precision = precision_score(test_labels_encoded, predicted_labels)\n",
        "recall = recall_score(test_labels_encoded, predicted_labels)\n",
        "f1 = f1_score(test_labels_encoded, predicted_labels)\n",
        "conf_matrix = confusion_matrix(test_labels_encoded, predicted_labels)\n",
        "\n",
        "\n",
        "print(f\"Precision: {precision:.4f}\")\n",
        "print(f\"Recall: {recall:.4f}\")\n",
        "print(f\"F1 Score: {f1:.4f}\")\n",
        "print(\"Confusion Matrix:\")\n",
        "print(conf_matrix)\n",
        "\n",
        "# Plotting confusion matrix\n",
        "plt.figure(figsize=(6, 6))\n",
        "sns.heatmap(conf_matrix, annot=True, fmt='d', cmap='Blues', xticklabels=label_encoder.classes_, yticklabels=label_encoder.classes_)\n",
        "plt.title('Confusion Matrix')\n",
        "plt.xlabel('Predicted Label')\n",
        "plt.ylabel('True Label')\n",
        "plt.show()\n"
      ],
      "metadata": {
        "id": "v7J5HfEQzNyi",
        "colab": {
          "base_uri": "https://localhost:8080/",
          "height": 775
        },
        "outputId": "a66920eb-0b98-4fd2-9ca3-034b7a6c82a8"
      },
      "execution_count": null,
      "outputs": [
        {
          "output_type": "stream",
          "name": "stdout",
          "text": [
            "Downloading data from https://storage.googleapis.com/tensorflow/keras-applications/vgg19/vgg19_weights_tf_dim_ordering_tf_kernels_notop.h5\n",
            "\u001b[1m80134624/80134624\u001b[0m \u001b[32m━━━━━━━━━━━━━━━━━━━━\u001b[0m\u001b[37m\u001b[0m \u001b[1m1s\u001b[0m 0us/step\n",
            "\u001b[1m9/9\u001b[0m \u001b[32m━━━━━━━━━━━━━━━━━━━━\u001b[0m\u001b[37m\u001b[0m \u001b[1m223s\u001b[0m 24s/step\n"
          ]
        },
        {
          "output_type": "stream",
          "name": "stderr",
          "text": [
            "WARNING:absl:Compiled the loaded model, but the compiled metrics have yet to be built. `model.compile_metrics` will be empty until you train or evaluate the model.\n"
          ]
        },
        {
          "output_type": "stream",
          "name": "stdout",
          "text": [
            "\u001b[1m9/9\u001b[0m \u001b[32m━━━━━━━━━━━━━━━━━━━━\u001b[0m\u001b[37m\u001b[0m \u001b[1m1s\u001b[0m 67ms/step\n",
            "Precision: 0.9497\n",
            "Recall: 0.9805\n",
            "F1 Score: 0.9649\n",
            "Confusion Matrix:\n",
            "[[116   8]\n",
            " [  3 151]]\n"
          ]
        },
        {
          "output_type": "display_data",
          "data": {
            "text/plain": [
              "<Figure size 600x600 with 2 Axes>"
            ],
            "image/png": "[encoded data removed]"
          },
          "metadata": {}
        }
      ]
    }
  ]
}