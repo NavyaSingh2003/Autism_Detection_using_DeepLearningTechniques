{
  "nbformat": 4,
  "nbformat_minor": 0,
  "metadata": {
    "colab": {
      "provenance": [],
      "gpuType": "T4"
    },
    "kernelspec": {
      "name": "python3",
      "display_name": "Python 3"
    },
    "language_info": {
      "name": "python"
    },
    "accelerator": "GPU"
  },
  "cells": [
    {
      "cell_type": "code",
      "source": [
        "from google.colab import drive\n",
        "drive.mount('/content/drive')"
      ],
      "metadata": {
        "id": "QKrHsDb2vbKI",
        "colab": {
          "base_uri": "https://localhost:8080/"
        },
        "outputId": "3b5d7ac6-cff4-4158-b1b0-45330267ee63"
      },
      "execution_count": null,
      "outputs": [
        {
          "output_type": "stream",
          "name": "stdout",
          "text": [
            "Mounted at /content/drive\n"
          ]
        }
      ]
    },
    {
      "cell_type": "code",
      "source": [
        "\n",
        "# Import necessary libraries\n",
        "import os\n",
        "import numpy as np\n",
        "import tensorflow as tf\n",
        "from tensorflow.keras import layers, models, optimizers\n",
        "from tensorflow.keras.preprocessing.image import ImageDataGenerator\n",
        "from tensorflow.keras.callbacks import ModelCheckpoint\n",
        "from keras.models import Model\n",
        "from keras.layers import Input, Conv2D, MaxPool2D, AveragePooling2D, Flatten, Dense, Dropout, concatenate, GlobalAveragePooling2D\n",
        "import keras\n",
        "from tensorflow.keras.applications import VGG19\n",
        "from tensorflow.keras.applications.vgg19 import preprocess_input\n",
        "from sklearn.preprocessing import LabelEncoder\n"
      ],
      "metadata": {
        "id": "uCLO3Rqqvhv4"
      },
      "execution_count": null,
      "outputs": []
    },
    {
      "cell_type": "code",
      "source": [
        "import os\n",
        "import numpy as np\n",
        "import tensorflow as tf\n",
        "from tensorflow.keras.preprocessing.image import load_img, img_to_array\n",
        "from tensorflow.keras.applications.vgg19 import VGG19, preprocess_input\n",
        "from tensorflow.keras.models import Model\n",
        "from tensorflow.keras.layers import Input, Dense, Dropout, Conv2D, MaxPooling2D, AveragePooling2D, Flatten, Concatenate\n",
        "from sklearn.preprocessing import LabelEncoder\n",
        "\n",
        "# paths to dataset\n",
        "source_folder = \"/content/drive/MyDrive/Colab_Notebooks/major_new_dataset/source_folder\"\n",
        "train_dir = os.path.join(source_folder, \"train\")\n",
        "test_dir = os.path.join(source_folder, \"test\")\n",
        "\n",
        "# Image ke parameters\n",
        "IMG_SIZE = (224, 224)  # VGG19 ka input size\n",
        "BATCH_SIZE = 32\n",
        "\n",
        "# Step 1: Load VGG19 for feature extraction\n",
        "base_model = VGG19(weights='imagenet', include_top=False, input_shape=(224, 224, 3))\n",
        "vgg19_model = Model(inputs=base_model.input, outputs=base_model.get_layer('block5_pool').output)  # Extract features from block5_pool\n",
        "vgg19_model.trainable = False\n",
        "\n",
        "# Step 2: Load and preprocess data\n",
        "def load_data(directory):\n",
        "    data, labels = [], []\n",
        "    for label in os.listdir(directory):\n",
        "        class_dir = os.path.join(directory, label)\n",
        "        if os.path.isdir(class_dir):\n",
        "            for img_name in os.listdir(class_dir):\n",
        "                img_path = os.path.join(class_dir, img_name)\n",
        "                img = load_img(img_path, target_size=IMG_SIZE)\n",
        "                img_array = img_to_array(img)\n",
        "                img_array = preprocess_input(img_array)  # Preprocess the image for VGG19\n",
        "                data.append(img_array)\n",
        "                labels.append(label)\n",
        "    data = np.array(data)\n",
        "    labels = np.array(labels)\n",
        "    return data, labels\n",
        "\n",
        "# Load train and test data from the respective directories\n",
        "train_data, train_labels = load_data(train_dir)\n",
        "test_data, test_labels = load_data(test_dir)\n",
        "\n",
        "# Encode labels as integers (ASD=0, TD=1)\n",
        "label_encoder = LabelEncoder()\n",
        "train_labels = label_encoder.fit_transform(train_labels)  # Converts labels to 0 and 1\n",
        "test_labels = label_encoder.transform(test_labels)        # Converts labels to 0 and 1\n",
        "\n",
        "# Step 3: Extract features using VGG19\n",
        "train_features = vgg19_model.predict(train_data, batch_size=BATCH_SIZE, verbose=1)\n",
        "test_features = vgg19_model.predict(test_data, batch_size=BATCH_SIZE, verbose=1)\n",
        "\n",
        "# Step 4: Define the Inception V1 architecture\n",
        "\n",
        "def inception_block(x, filters):\n",
        "    # 1x1 Convolution\n",
        "    branch1 = Conv2D(filters[0], (1, 1), padding='same', activation='relu')(x)\n",
        "\n",
        "    # 1x1 Convolution followed by 3x3 Convolution\n",
        "    branch2 = Conv2D(filters[1], (1, 1), padding='same', activation='relu')(x)\n",
        "    branch2 = Conv2D(filters[2], (3, 3), padding='same', activation='relu')(branch2)\n",
        "\n",
        "    # 1x1 Convolution followed by 5x5 Convolution\n",
        "    branch3 = Conv2D(filters[3], (1, 1), padding='same', activation='relu')(x)\n",
        "    branch3 = Conv2D(filters[4], (5, 5), padding='same', activation='relu')(branch3)\n",
        "\n",
        "    # 3x3 MaxPooling followed by 1x1 Convolution\n",
        "    branch4 = MaxPooling2D((3, 3), strides=(1, 1), padding='same')(x)\n",
        "    branch4 = Conv2D(filters[5], (1, 1), padding='same', activation='relu')(branch4)\n",
        "\n",
        "    # Concatenate all branches\n",
        "    output = Concatenate(axis=-1)([branch1, branch2, branch3, branch4])\n",
        "    return output\n",
        "\n",
        "# Step 5: Build the Inception V1 model\n",
        "\n",
        "input_layer = Input(shape=(7, 7, 512))  # VGG19 ka output shape (7x7x512)\n",
        "x = inception_block(input_layer, [64, 128, 128, 32, 32, 32])  # filters Define kiye for the inception block\n",
        "x = AveragePooling2D(pool_size=(2, 2))(x)  # Pooling after inception block\n",
        "x = Flatten()(x)  # Flatten to feed into dense layers\n",
        "x = Dense(1024, activation='relu')(x)  # Fully connected layer\n",
        "x = Dropout(0.5)(x)\n",
        "x = Dense(1, activation='sigmoid')(x)  # Binary classification (ASD=0, TD=1)\n",
        "\n",
        "inception_model = Model(inputs=input_layer, outputs=x)\n",
        "\n",
        "# Step 6: Compile the model\n",
        "inception_model.compile(optimizer='adam', loss='binary_crossentropy', metrics=['accuracy'])\n",
        "\n",
        "# Step 7: Train the model using the training data\n",
        "inception_model.fit(\n",
        "    train_features, train_labels,\n",
        "    batch_size=BATCH_SIZE,\n",
        "    epochs=30  # Adjust epochs as needed\n",
        ")\n",
        "\n",
        "# Step 8: Evaluate the model on test data\n",
        "test_loss, test_acc = inception_model.evaluate(test_features, test_labels)\n",
        "print(f\"Test Accuracy: {test_acc * 100:.2f}%\")\n",
        "\n",
        "# Step 9: Save the model\n",
        "inception_model.save(\"/content/drive/MyDrive/Colab_Notebooks/major_new_dataset/model_saving/inception_v1_with_vgg19_features.h5\")\n",
        "print(\"Model saved as 'inception_v1_with_vgg19_features.h5'\")\n"
      ],
      "metadata": {
        "colab": {
          "base_uri": "https://localhost:8080/"
        },
        "id": "PfqaXQbhr3wB",
        "outputId": "31df3aa8-fae0-49bc-dd3a-e69c921ab154"
      },
      "execution_count": null,
      "outputs": [
        {
          "output_type": "stream",
          "name": "stdout",
          "text": [
            "\u001b[1m21/21\u001b[0m \u001b[32m━━━━━━━━━━━━━━━━━━━━\u001b[0m\u001b[37m\u001b[0m \u001b[1m4s\u001b[0m 169ms/step\n",
            "\u001b[1m9/9\u001b[0m \u001b[32m━━━━━━━━━━━━━━━━━━━━\u001b[0m\u001b[37m\u001b[0m \u001b[1m2s\u001b[0m 194ms/step\n",
            "Epoch 1/30\n",
            "\u001b[1m21/21\u001b[0m \u001b[32m━━━━━━━━━━━━━━━━━━━━\u001b[0m\u001b[37m\u001b[0m \u001b[1m7s\u001b[0m 127ms/step - accuracy: 0.5599 - loss: 16.1808\n",
            "Epoch 2/30\n",
            "\u001b[1m21/21\u001b[0m \u001b[32m━━━━━━━━━━━━━━━━━━━━\u001b[0m\u001b[37m\u001b[0m \u001b[1m5s\u001b[0m 6ms/step - accuracy: 0.7407 - loss: 0.6676\n",
            "Epoch 3/30\n",
            "\u001b[1m21/21\u001b[0m \u001b[32m━━━━━━━━━━━━━━━━━━━━\u001b[0m\u001b[37m\u001b[0m \u001b[1m0s\u001b[0m 6ms/step - accuracy: 0.8710 - loss: 0.3310\n",
            "Epoch 4/30\n",
            "\u001b[1m21/21\u001b[0m \u001b[32m━━━━━━━━━━━━━━━━━━━━\u001b[0m\u001b[37m\u001b[0m \u001b[1m0s\u001b[0m 6ms/step - accuracy: 0.9285 - loss: 0.1836\n",
            "Epoch 5/30\n",
            "\u001b[1m21/21\u001b[0m \u001b[32m━━━━━━━━━━━━━━━━━━━━\u001b[0m\u001b[37m\u001b[0m \u001b[1m0s\u001b[0m 6ms/step - accuracy: 0.9334 - loss: 0.1739\n",
            "Epoch 6/30\n",
            "\u001b[1m21/21\u001b[0m \u001b[32m━━━━━━━━━━━━━━━━━━━━\u001b[0m\u001b[37m\u001b[0m \u001b[1m0s\u001b[0m 5ms/step - accuracy: 0.9759 - loss: 0.0842\n",
            "Epoch 7/30\n",
            "\u001b[1m21/21\u001b[0m \u001b[32m━━━━━━━━━━━━━━━━━━━━\u001b[0m\u001b[37m\u001b[0m \u001b[1m0s\u001b[0m 5ms/step - accuracy: 0.9767 - loss: 0.0710\n",
            "Epoch 8/30\n",
            "\u001b[1m21/21\u001b[0m \u001b[32m━━━━━━━━━━━━━━━━━━━━\u001b[0m\u001b[37m\u001b[0m \u001b[1m0s\u001b[0m 5ms/step - accuracy: 0.9757 - loss: 0.0608\n",
            "Epoch 9/30\n",
            "\u001b[1m21/21\u001b[0m \u001b[32m━━━━━━━━━━━━━━━━━━━━\u001b[0m\u001b[37m\u001b[0m \u001b[1m0s\u001b[0m 5ms/step - accuracy: 0.9984 - loss: 0.0288\n",
            "Epoch 10/30\n",
            "\u001b[1m21/21\u001b[0m \u001b[32m━━━━━━━━━━━━━━━━━━━━\u001b[0m\u001b[37m\u001b[0m \u001b[1m0s\u001b[0m 5ms/step - accuracy: 0.9961 - loss: 0.0200\n",
            "Epoch 11/30\n",
            "\u001b[1m21/21\u001b[0m \u001b[32m━━━━━━━━━━━━━━━━━━━━\u001b[0m\u001b[37m\u001b[0m \u001b[1m0s\u001b[0m 5ms/step - accuracy: 0.9955 - loss: 0.0190\n",
            "Epoch 12/30\n",
            "\u001b[1m21/21\u001b[0m \u001b[32m━━━━━━━━━━━━━━━━━━━━\u001b[0m\u001b[37m\u001b[0m \u001b[1m0s\u001b[0m 5ms/step - accuracy: 1.0000 - loss: 0.0057\n",
            "Epoch 13/30\n",
            "\u001b[1m21/21\u001b[0m \u001b[32m━━━━━━━━━━━━━━━━━━━━\u001b[0m\u001b[37m\u001b[0m \u001b[1m0s\u001b[0m 5ms/step - accuracy: 0.9984 - loss: 0.0101\n",
            "Epoch 14/30\n",
            "\u001b[1m21/21\u001b[0m \u001b[32m━━━━━━━━━━━━━━━━━━━━\u001b[0m\u001b[37m\u001b[0m \u001b[1m0s\u001b[0m 5ms/step - accuracy: 0.9955 - loss: 0.0103\n",
            "Epoch 15/30\n",
            "\u001b[1m21/21\u001b[0m \u001b[32m━━━━━━━━━━━━━━━━━━━━\u001b[0m\u001b[37m\u001b[0m \u001b[1m0s\u001b[0m 5ms/step - accuracy: 1.0000 - loss: 0.0038\n",
            "Epoch 16/30\n",
            "\u001b[1m21/21\u001b[0m \u001b[32m━━━━━━━━━━━━━━━━━━━━\u001b[0m\u001b[37m\u001b[0m \u001b[1m0s\u001b[0m 6ms/step - accuracy: 1.0000 - loss: 0.0032\n",
            "Epoch 17/30\n",
            "\u001b[1m21/21\u001b[0m \u001b[32m━━━━━━━━━━━━━━━━━━━━\u001b[0m\u001b[37m\u001b[0m \u001b[1m0s\u001b[0m 5ms/step - accuracy: 0.9993 - loss: 0.0079\n",
            "Epoch 18/30\n",
            "\u001b[1m21/21\u001b[0m \u001b[32m━━━━━━━━━━━━━━━━━━━━\u001b[0m\u001b[37m\u001b[0m \u001b[1m0s\u001b[0m 5ms/step - accuracy: 0.9990 - loss: 0.0070\n",
            "Epoch 19/30\n",
            "\u001b[1m21/21\u001b[0m \u001b[32m━━━━━━━━━━━━━━━━━━━━\u001b[0m\u001b[37m\u001b[0m \u001b[1m0s\u001b[0m 5ms/step - accuracy: 0.9996 - loss: 0.0052\n",
            "Epoch 20/30\n",
            "\u001b[1m21/21\u001b[0m \u001b[32m━━━━━━━━━━━━━━━━━━━━\u001b[0m\u001b[37m\u001b[0m \u001b[1m0s\u001b[0m 5ms/step - accuracy: 1.0000 - loss: 0.0018\n",
            "Epoch 21/30\n",
            "\u001b[1m21/21\u001b[0m \u001b[32m━━━━━━━━━━━━━━━━━━━━\u001b[0m\u001b[37m\u001b[0m \u001b[1m0s\u001b[0m 5ms/step - accuracy: 0.9984 - loss: 0.0048\n",
            "Epoch 22/30\n",
            "\u001b[1m21/21\u001b[0m \u001b[32m━━━━━━━━━━━━━━━━━━━━\u001b[0m\u001b[37m\u001b[0m \u001b[1m0s\u001b[0m 5ms/step - accuracy: 0.9994 - loss: 0.0036\n",
            "Epoch 23/30\n",
            "\u001b[1m21/21\u001b[0m \u001b[32m━━━━━━━━━━━━━━━━━━━━\u001b[0m\u001b[37m\u001b[0m \u001b[1m0s\u001b[0m 5ms/step - accuracy: 1.0000 - loss: 0.0035\n",
            "Epoch 24/30\n",
            "\u001b[1m21/21\u001b[0m \u001b[32m━━━━━━━━━━━━━━━━━━━━\u001b[0m\u001b[37m\u001b[0m \u001b[1m0s\u001b[0m 5ms/step - accuracy: 1.0000 - loss: 0.0019\n",
            "Epoch 25/30\n",
            "\u001b[1m21/21\u001b[0m \u001b[32m━━━━━━━━━━━━━━━━━━━━\u001b[0m\u001b[37m\u001b[0m \u001b[1m0s\u001b[0m 5ms/step - accuracy: 1.0000 - loss: 0.0012\n",
            "Epoch 26/30\n",
            "\u001b[1m21/21\u001b[0m \u001b[32m━━━━━━━━━━━━━━━━━━━━\u001b[0m\u001b[37m\u001b[0m \u001b[1m0s\u001b[0m 5ms/step - accuracy: 1.0000 - loss: 3.7410e-04\n",
            "Epoch 27/30\n",
            "\u001b[1m21/21\u001b[0m \u001b[32m━━━━━━━━━━━━━━━━━━━━\u001b[0m\u001b[37m\u001b[0m \u001b[1m0s\u001b[0m 5ms/step - accuracy: 1.0000 - loss: 5.8837e-04\n",
            "Epoch 28/30\n",
            "\u001b[1m21/21\u001b[0m \u001b[32m━━━━━━━━━━━━━━━━━━━━\u001b[0m\u001b[37m\u001b[0m \u001b[1m0s\u001b[0m 5ms/step - accuracy: 1.0000 - loss: 4.7395e-04\n",
            "Epoch 29/30\n",
            "\u001b[1m21/21\u001b[0m \u001b[32m━━━━━━━━━━━━━━━━━━━━\u001b[0m\u001b[37m\u001b[0m \u001b[1m0s\u001b[0m 5ms/step - accuracy: 1.0000 - loss: 4.7703e-04\n",
            "Epoch 30/30\n",
            "\u001b[1m21/21\u001b[0m \u001b[32m━━━━━━━━━━━━━━━━━━━━\u001b[0m\u001b[37m\u001b[0m \u001b[1m0s\u001b[0m 5ms/step - accuracy: 1.0000 - loss: 2.9285e-04\n",
            "\u001b[1m9/9\u001b[0m \u001b[32m━━━━━━━━━━━━━━━━━━━━\u001b[0m\u001b[37m\u001b[0m \u001b[1m1s\u001b[0m 74ms/step - accuracy: 0.9452 - loss: 0.2114\n"
          ]
        },
        {
          "output_type": "stream",
          "name": "stderr",
          "text": [
            "WARNING:absl:You are saving your model as an HDF5 file via `model.save()` or `keras.saving.save_model(model)`. This file format is considered legacy. We recommend using instead the native Keras format, e.g. `model.save('my_model.keras')` or `keras.saving.save_model(model, 'my_model.keras')`. \n"
          ]
        },
        {
          "output_type": "stream",
          "name": "stdout",
          "text": [
            "Test Accuracy: 94.96%\n",
            "Model saved as 'inception_v1_with_vgg19_features.h5'\n"
          ]
        }
      ]
    },
    {
      "cell_type": "code",
      "source": [
        "import os\n",
        "import numpy as np\n",
        "import tensorflow as tf\n",
        "from tensorflow.keras.preprocessing.image import load_img, img_to_array\n",
        "from tensorflow.keras.applications.vgg19 import VGG19, preprocess_input\n",
        "from tensorflow.keras.models import Model\n",
        "from sklearn.preprocessing import LabelEncoder\n",
        "from sklearn.metrics import precision_score, recall_score, f1_score, confusion_matrix\n",
        "import matplotlib.pyplot as plt\n",
        "import seaborn as sns\n",
        "\n",
        "# Define paths to dataset\n",
        "source_folder = \"/content/drive/MyDrive/Colab_Notebooks/major_new_dataset/source_folder\"\n",
        "test_dir = os.path.join(source_folder, \"test\")\n",
        "\n",
        "# Image parameters\n",
        "IMG_SIZE = (224, 224)  # VGG19 input size\n",
        "BATCH_SIZE = 32\n",
        "\n",
        "# Step 1: Load VGG19 for feature extraction\n",
        "base_model = VGG19(weights='imagenet', include_top=False, input_shape=(224, 224, 3))\n",
        "vgg19_model = Model(inputs=base_model.input, outputs=base_model.get_layer('block5_pool').output)  # Extract features from block5_pool\n",
        "vgg19_model.trainable = False\n",
        "\n",
        "# Step 2: Load and preprocess data for the test set\n",
        "def load_data(directory):\n",
        "    data, labels = [], []\n",
        "    for label in os.listdir(directory):\n",
        "        class_dir = os.path.join(directory, label)\n",
        "        if os.path.isdir(class_dir):\n",
        "            for img_name in os.listdir(class_dir):\n",
        "                img_path = os.path.join(class_dir, img_name)\n",
        "                img = load_img(img_path, target_size=IMG_SIZE)\n",
        "                img_array = img_to_array(img)\n",
        "                img_array = preprocess_input(img_array)  # Preprocess the image for VGG19\n",
        "                data.append(img_array)\n",
        "                labels.append(label)\n",
        "    data = np.array(data)\n",
        "    labels = np.array(labels)\n",
        "    return data, labels\n",
        "\n",
        "# Load test data from the directory\n",
        "test_data, test_labels = load_data(test_dir)\n",
        "\n",
        "# Encode labels as integers (ASD=0, TD=1)\n",
        "label_encoder = LabelEncoder()\n",
        "test_labels_encoded = label_encoder.fit_transform(test_labels)  # Converts labels to 0 and 1\n",
        "\n",
        "# Step 3: Extract features using VGG19\n",
        "test_features = vgg19_model.predict(test_data, batch_size=BATCH_SIZE, verbose=1)\n",
        "\n",
        "# Step 4: Load the saved Inception model from .h5 file\n",
        "inception_model = tf.keras.models.load_model(\"/content/drive/MyDrive/Colab_Notebooks/major_new_dataset/model_saving/inception_v1_with_vgg19_features.h5\")\n",
        "\n",
        "# Step 5: Predict labels for the test data\n",
        "predicted_probs = inception_model.predict(test_features, batch_size=BATCH_SIZE)\n",
        "predicted_labels = (predicted_probs > 0.5).astype(int)  # Convert probabilities to binary labels (0 or 1)\n",
        "\n",
        "# Step 6: Compute precision, recall, F1 score, and confusion matrix\n",
        "precision = precision_score(test_labels_encoded, predicted_labels)\n",
        "recall = recall_score(test_labels_encoded, predicted_labels)\n",
        "f1 = f1_score(test_labels_encoded, predicted_labels)\n",
        "conf_matrix = confusion_matrix(test_labels_encoded, predicted_labels)\n",
        "\n",
        "# Print the metrics\n",
        "print(f\"Precision: {precision:.4f}\")\n",
        "print(f\"Recall: {recall:.4f}\")\n",
        "print(f\"F1 Score: {f1:.4f}\")\n",
        "print(\"Confusion Matrix:\")\n",
        "print(conf_matrix)\n",
        "\n",
        "# Step 7: Plot the confusion matrix\n",
        "plt.figure(figsize=(6, 6))\n",
        "sns.heatmap(conf_matrix, annot=True, fmt='d', cmap='Blues', xticklabels=label_encoder.classes_, yticklabels=label_encoder.classes_)\n",
        "plt.title('Confusion Matrix')\n",
        "plt.xlabel('Predicted Label')\n",
        "plt.ylabel('True Label')\n",
        "plt.show()\n"
      ],
      "metadata": {
        "colab": {
          "base_uri": "https://localhost:8080/",
          "height": 720
        },
        "id": "RrgM3BLmtYZj",
        "outputId": "f00a2561-7c29-46bf-ad83-999a92ecd148"
      },
      "execution_count": null,
      "outputs": [
        {
          "output_type": "stream",
          "name": "stdout",
          "text": [
            "\u001b[1m9/9\u001b[0m \u001b[32m━━━━━━━━━━━━━━━━━━━━\u001b[0m\u001b[37m\u001b[0m \u001b[1m2s\u001b[0m 241ms/step\n"
          ]
        },
        {
          "output_type": "stream",
          "name": "stderr",
          "text": [
            "WARNING:absl:Compiled the loaded model, but the compiled metrics have yet to be built. `model.compile_metrics` will be empty until you train or evaluate the model.\n"
          ]
        },
        {
          "output_type": "stream",
          "name": "stdout",
          "text": [
            "\u001b[1m9/9\u001b[0m \u001b[32m━━━━━━━━━━━━━━━━━━━━\u001b[0m\u001b[37m\u001b[0m \u001b[1m3s\u001b[0m 185ms/step\n",
            "Precision: 0.9375\n",
            "Recall: 0.9740\n",
            "F1 Score: 0.9554\n",
            "Confusion Matrix:\n",
            "[[114  10]\n",
            " [  4 150]]\n"
          ]
        },
        {
          "output_type": "display_data",
          "data": {
            "text/plain": [
              "<Figure size 600x600 with 2 Axes>"
            ],
            "image/png": "[encoded data removed]"
          },
          "metadata": {}
        }
      ]
    },
    {
      "cell_type": "code",
      "source": [
        "import os\n",
        "import numpy as np\n",
        "import tensorflow as tf\n",
        "from tensorflow.keras.preprocessing.image import load_img, img_to_array\n",
        "from tensorflow.keras.applications.vgg19 import VGG19, preprocess_input\n",
        "from tensorflow.keras.models import Model\n",
        "from sklearn.preprocessing import LabelEncoder\n",
        "from sklearn.metrics import roc_curve, auc\n",
        "import matplotlib.pyplot as plt\n",
        "\n",
        "# Define paths to dataset\n",
        "source_folder = \"/content/drive/MyDrive/Colab_Notebooks/major_new_dataset/source_folder\"\n",
        "test_dir = os.path.join(source_folder, \"test\")\n",
        "\n",
        "# Image parameters\n",
        "IMG_SIZE = (224, 224)  # VGG19 input size\n",
        "BATCH_SIZE = 32\n",
        "\n",
        "# Step 1: Load VGG19 for feature extraction\n",
        "base_model = VGG19(weights='imagenet', include_top=False, input_shape=(224, 224, 3))\n",
        "vgg19_model = Model(inputs=base_model.input, outputs=base_model.get_layer('block5_pool').output)  # Extract features from block5_pool\n",
        "vgg19_model.trainable = False\n",
        "\n",
        "# Step 2: Load and preprocess data for the test set\n",
        "def load_data(directory):\n",
        "    data = []  # Initialize data as a list\n",
        "    labels = []  # Initialize labels as a list\n",
        "    for label in os.listdir(directory):\n",
        "        class_dir = os.path.join(directory, label)\n",
        "        if os.path.isdir(class_dir):  # Ensure it's a folder\n",
        "            for img_name in os.listdir(class_dir):\n",
        "                img_path = os.path.join(class_dir, img_name)\n",
        "                img = load_img(img_path, target_size=IMG_SIZE)  # Load the image\n",
        "                img_array = img_to_array(img)  # Convert to array\n",
        "                img_array = preprocess_input(img_array)  # Preprocess for VGG19\n",
        "                data.append(img_array)  # Add image array to data\n",
        "                labels.append(label)  # Add corresponding label\n",
        "    data = np.array(data)  # Convert list to numpy array\n",
        "    labels = np.array(labels)  # Convert list to numpy array\n",
        "    return data, labels\n",
        "\n",
        "# Load test data from the directory\n",
        "test_data, test_labels = load_data(test_dir)\n",
        "\n",
        "# Encode labels as integers (ASD=0, TD=1)\n",
        "label_encoder = LabelEncoder()\n",
        "test_labels_encoded = label_encoder.fit_transform(test_labels)  # Converts labels to 0 and 1\n",
        "\n",
        "# Step 3: Extract features using VGG19\n",
        "test_features = vgg19_model.predict(test_data, batch_size=BATCH_SIZE, verbose=1)\n",
        "\n",
        "# Reshape the features to match the Inception v2 model's input shape\n",
        "test_features_reshaped = test_features.reshape(test_features.shape[0], 7, 7, 512)\n",
        "\n",
        "# Step 4: Load the saved Inception v2 model\n",
        "inception_model = tf.keras.models.load_model(\"/content/drive/MyDrive/Colab_Notebooks/major_new_dataset/model_saving/inception_v1_with_vgg19_features.h5\")\n",
        "\n",
        "# Step 5: Predict probabilities for the test data\n",
        "predicted_probs = inception_model.predict(test_features_reshaped, batch_size=BATCH_SIZE)\n",
        "\n",
        "# Step 6: Compute ROC curve and AUC\n",
        "fpr, tpr, thresholds = roc_curve(test_labels_encoded, predicted_probs)\n",
        "roc_auc = auc(fpr, tpr)\n",
        "\n",
        "# Step 7: Plot ROC curve\n",
        "plt.figure(figsize=(8, 6))\n",
        "plt.plot(fpr, tpr, color='blue', label=f'ROC Curve (AUC = {roc_auc:.4f})')\n",
        "plt.plot([0, 1], [0, 1], color='red', linestyle='--')  # Diagonal line for random performance\n",
        "plt.title('Receiver Operating Characteristic (ROC) Curve')\n",
        "plt.xlabel('False Positive Rate')\n",
        "plt.ylabel('True Positive Rate')\n",
        "plt.legend(loc='lower right')\n",
        "plt.grid(alpha=0.3)\n",
        "plt.show()\n"
      ],
      "metadata": {
        "colab": {
          "base_uri": "https://localhost:8080/",
          "height": 651
        },
        "id": "_JuKN9nxzYFX",
        "outputId": "7e128142-823d-4ab6-ac15-467112f69384"
      },
      "execution_count": null,
      "outputs": [
        {
          "output_type": "stream",
          "name": "stdout",
          "text": [
            "Downloading data from https://storage.googleapis.com/tensorflow/keras-applications/vgg19/vgg19_weights_tf_dim_ordering_tf_kernels_notop.h5\n",
            "\u001b[1m80134624/80134624\u001b[0m \u001b[32m━━━━━━━━━━━━━━━━━━━━\u001b[0m\u001b[37m\u001b[0m \u001b[1m4s\u001b[0m 0us/step\n",
            "\u001b[1m9/9\u001b[0m \u001b[32m━━━━━━━━━━━━━━━━━━━━\u001b[0m\u001b[37m\u001b[0m \u001b[1m26s\u001b[0m 1s/step\n"
          ]
        },
        {
          "output_type": "stream",
          "name": "stderr",
          "text": [
            "WARNING:absl:Compiled the loaded model, but the compiled metrics have yet to be built. `model.compile_metrics` will be empty until you train or evaluate the model.\n"
          ]
        },
        {
          "output_type": "stream",
          "name": "stdout",
          "text": [
            "\u001b[1m9/9\u001b[0m \u001b[32m━━━━━━━━━━━━━━━━━━━━\u001b[0m\u001b[37m\u001b[0m \u001b[1m2s\u001b[0m 83ms/step\n"
          ]
        },
        {
          "output_type": "display_data",
          "data": {
            "text/plain": [
              "<Figure size 800x600 with 1 Axes>"
            ],
            "image/png": "[encoded data removed]"
          },
          "metadata": {}
        }
      ]
    },
    {
      "cell_type": "code",
      "source": [
        "# scratch architecture of v1\n",
        "\n",
        "def InceptionBlock(previous_layer , nbr_f1 , nbr_f2_1 , nbr_f2_2 , nbr_f3_1 , nbr_f3_2 , nbr_f4) :\n",
        "\n",
        "    #Path 1\n",
        "    path1 = Conv2D(filters=nbr_f1, kernel_size = (1,1), padding='same' , activation='relu')(previous_layer)\n",
        "\n",
        "    #Path 2\n",
        "    path2 = Conv2D(filters=nbr_f2_1, kernel_size = (1,1), padding='same' , activation='relu')(previous_layer)\n",
        "    path2 = Conv2D(filters=nbr_f2_2, kernel_size = (3,3), padding='same' , activation='relu')(path2)\n",
        "\n",
        "    #Path 3\n",
        "    path3 = Conv2D(filters=nbr_f3_1, kernel_size = (1,1), padding='same' , activation='relu')(previous_layer)\n",
        "    path3 = Conv2D(filters=nbr_f3_1, kernel_size = (5,5), padding='same' , activation='relu')(path3)\n",
        "\n",
        "    #Path 4\n",
        "    path4 = MaxPool2D(pool_size=(3,3) , strides=(1,1) , padding='same') (previous_layer)\n",
        "    path4 = Conv2D(filters=nbr_f4, kernel_size = (1,1), padding='same' , activation='relu')(path4)\n",
        "\n",
        "    output_Layer = concatenate([path1 , path2 , path3 , path4], axis = -1)\n",
        "\n",
        "    return output_Layer\n",
        "\n",
        "def InceptionV1(input_shape):\n",
        "    input_layer = Input(shape=input_shape)\n",
        "\n",
        "    # Initial Conv and Pooling layers\n",
        "    x = Conv2D(filters=64, kernel_size=(7, 7), strides=2, padding='same', activation='relu')(input_layer)\n",
        "    x = MaxPool2D(pool_size=(3, 3), strides=2, padding='same')(x)  # Reduce stride or padding\n",
        "    x = Conv2D(filters=64, kernel_size=(1, 1), strides=1, padding='same', activation='relu')(x)\n",
        "    x = Conv2D(filters=192, kernel_size=(3, 3), strides=1, padding='same', activation='relu')(x)\n",
        "    x = MaxPool2D(pool_size=(3, 3), strides=2, padding='same')(x)  # Same here, adjust stride/padding\n",
        "\n",
        "    # Inception Blocks\n",
        "    x = InceptionBlock(previous_layer=x, nbr_f1=64, nbr_f2_1=96, nbr_f2_2=128, nbr_f3_1=16, nbr_f3_2=32, nbr_f4=32)\n",
        "    x = InceptionBlock(previous_layer=x, nbr_f1=128, nbr_f2_1=128, nbr_f2_2=192, nbr_f3_1=32, nbr_f3_2=96, nbr_f4=64)\n",
        "    x = MaxPool2D(pool_size=(3, 3), strides=2, padding='same')(x)\n",
        "\n",
        "    x = InceptionBlock(previous_layer=x, nbr_f1=192, nbr_f2_1=96, nbr_f2_2=208, nbr_f3_1=16, nbr_f3_2=48, nbr_f4=64)\n",
        "\n",
        "    # Average Pooling and Fully Connected layers\n",
        "    x = AveragePooling2D(pool_size=(5, 5), strides=3)(x)  # Ensure the size is appropriate here\n",
        "    x = Conv2D(filters=128, kernel_size=(1, 1), padding='same', activation='relu')(x)\n",
        "    x = Flatten()(x)\n",
        "    x = Dense(1024, activation='relu')(x)\n",
        "    x = Dropout(0.7)(x)\n",
        "    x = Dense(1, activation='sigmoid')(x)  # Binary classification output\n",
        "\n",
        "    # Model definition\n",
        "    model = Model(inputs=input_layer, outputs=x, name='InceptionV1')\n",
        "    return model\n"
      ],
      "metadata": {
        "id": "Cl-2lhT9p_-d"
      },
      "execution_count": null,
      "outputs": []
    }
  ]
}